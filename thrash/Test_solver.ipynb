{
 "cells": [
  {
   "cell_type": "code",
   "execution_count": 78,
   "metadata": {
    "collapsed": true,
    "pycharm": {
     "is_executing": false
    }
   },
   "outputs": [],
   "source": [
    "from scipy.integrate import odeint\n",
    "import matplotlib.pyplot as plt\n",
    "import numpy as np"
   ]
  },
  {
   "cell_type": "code",
   "execution_count": 79,
   "outputs": [],
   "source": [
    "# Define the function to derivate \n",
    "\n",
    "def dy_dx(y,x):\n",
    "    return x - y\n",
    "    \n",
    "xs = np.linspace (0, 5, 100)\n",
    "y0 = 1\n",
    "ys = odeint(dy_dx, y0, xs)\n",
    "ys = ys.flatten()"
   ],
   "metadata": {
    "collapsed": false,
    "pycharm": {
     "name": "#%%\n",
     "is_executing": false
    }
   }
  },
  {
   "cell_type": "code",
   "execution_count": 80,
   "outputs": [],
   "source": [
    "# Plot the numerical solution\n",
    "plt.rcParams.update({'font.size': 14})  # increase the font size\n",
    "plt.xlabel(\"x\")\n",
    "plt.ylabel(\"y\")\n",
    "plt.plot(xs, ys);"
   ],
   "metadata": {
    "collapsed": false,
    "pycharm": {
     "name": "#%%\n",
     "is_executing": false
    }
   }
  },
  {
   "cell_type": "code",
   "execution_count": 52,
   "outputs": [
    {
     "name": "stdout",
     "text": [
      "Maximum difference between the complex and real versions is 0.0\n"
     ],
     "output_type": "stream"
    },
    {
     "data": {
      "text/plain": "<Figure size 432x288 with 1 Axes>",
      "image/png": "[encoded data removed]"
     },
     "metadata": {
      "needs_background": "light"
     },
     "output_type": "display_data"
    }
   ],
   "source": [
    "import numpy as np\n",
    "from scipy.integrate import odeint\n",
    "\n",
    "\n",
    "def odeintz(func, z0, t, **kwargs):\n",
    "    \"\"\"An odeint-like function for complex valued differential equations.\"\"\"\n",
    "\n",
    "    # Disallow Jacobian-related arguments.\n",
    "    _unsupported_odeint_args = ['Dfun', 'col_deriv', 'ml', 'mu']\n",
    "    bad_args = [arg for arg in kwargs if arg in _unsupported_odeint_args]\n",
    "    if len(bad_args) > 0:\n",
    "        raise ValueError(\"The odeint argument %r is not supported by \"\n",
    "                         \"odeintz.\" % (bad_args[0],))\n",
    "\n",
    "    # Make sure z0 is a numpy array of type np.complex128.\n",
    "    z0 = np.array(z0, dtype=np.complex128, ndmin=1)\n",
    "\n",
    "    def realfunc(x, t, *args):\n",
    "        z = x.view(np.complex128)\n",
    "        dzdt = func(z, t, *args)\n",
    "        # func might return a python list, so convert its return\n",
    "        # value to an array with type np.complex128, and then return\n",
    "        # a np.float64 view of that array.\n",
    "        return np.asarray(dzdt, dtype=np.complex128).view(np.float64)\n",
    "\n",
    "    result = odeint(realfunc, z0.view(np.float64), t, **kwargs)\n",
    "\n",
    "    if kwargs.get('full_output', False):\n",
    "        z = result[0].view(np.complex128)\n",
    "        infodict = result[1]\n",
    "        return z, infodict\n",
    "    else:\n",
    "        z = result.view(np.complex128)\n",
    "        return z\n",
    "\n",
    "\n",
    "if __name__ == \"__main__\":\n",
    "    # Generate a solution to:\n",
    "    #     dz1/dt = -z1 * (K - z2)\n",
    "    #     dz2/dt = L - z2\n",
    "    # K and L are fixed parameters.  z1(t) and z2(t) are complex-\n",
    "    # valued functions of t.\n",
    "\n",
    "    # Define the right-hand-side of the differential equation.\n",
    "    def zfunc(z, t, K, L):\n",
    "        z1, z2 = z\n",
    "        return [-z1 * (K - z2), L - z2] \n",
    "\n",
    "    # Set up the inputs and call odeintz to solve the system.\n",
    "    z0 = np.array([1+2j, 3+4j])\n",
    "    t = np.linspace(0, 4, 101)\n",
    "    K = 3\n",
    "    L = 1\n",
    "    z, infodict = odeintz(zfunc, z0, t, args=(K,L), full_output=True)\n",
    "\n",
    "    # For comparison, here is how the complex system can be converted\n",
    "    # to a real system.  The real and imaginary parts are used to\n",
    "    # write a system of four coupled equations.  The formulas for\n",
    "    # the complex right-hand-sides are\n",
    "    #   -z1 * (K - z2) = -(x1 + i*y1) * (K - (x2 + i*y2))\n",
    "    #                  = (-x1 - i*y1) * (K - x2 + i(-y2))\n",
    "    #                  = -x1 * (K - x2) - y1*y2 + i*(-y1*(K - x2) + x1*y2)\n",
    "    # and\n",
    "    #   L - z2 = L - (x2 + i*y2)\n",
    "    #          = (L - x2) + i*(-y2)\n",
    "    def func(r, t, K, L):\n",
    "        x1, y1, x2, y2 = r\n",
    "        dx1dt = -x1 * (K - x2) - y1*y2\n",
    "        dy1dt = -y1 * (K - x2) + x1*y2\n",
    "        dx2dt = L - x2\n",
    "        dy2dt = -y2\n",
    "        return [dx1dt, dy1dt, dx2dt, dy2dt]\n",
    "\n",
    "    # Use regular odeint to solve the real system.\n",
    "    r, infodict = odeint(func, z0.view(np.float64), t, args=(K,L), full_output=True)\n",
    "\n",
    "    # Compare the two solutions.  They should be the same.  (As usual for\n",
    "    # floating point calculations, there could be a small difference.)\n",
    "    delta_max = np.abs(z.view(np.float64) - r).max()\n",
    "    print(\"Maximum difference between the complex and real versions is\", delta_max)\n",
    "\n",
    "\n",
    "    # Plot the real and imaginary parts of the complex solution.\n",
    "\n",
    "    import matplotlib.pyplot as plt\n",
    "\n",
    "    plt.clf()\n",
    "    plt.plot(t, z[:,0].real, label='z1.real')\n",
    "    plt.plot(t, z[:,0].imag, label='z1.imag')\n",
    "    plt.plot(t, z[:,1].real, label='z2.real')\n",
    "    plt.plot(t, z[:,1].imag, label='z2.imag')\n",
    "    plt.xlabel('t')\n",
    "    plt.grid(True)\n",
    "    plt.legend(loc='best')\n",
    "    plt.show()"
   ],
   "metadata": {
    "collapsed": false,
    "pycharm": {
     "name": "#%%\n",
     "is_executing": false
    }
   }
  },
  {
   "cell_type": "code",
   "execution_count": 53,
   "outputs": [
    {
     "data": {
      "text/plain": "complex"
     },
     "metadata": {},
     "output_type": "execute_result",
     "execution_count": 53
    }
   ],
   "source": [
    "type(1+1j)"
   ],
   "metadata": {
    "collapsed": false,
    "pycharm": {
     "name": "#%%\n",
     "is_executing": false
    }
   }
  },
  {
   "cell_type": "code",
   "execution_count": 83,
   "outputs": [],
   "source": [
    "from scipy.integrate import ode\n",
    "\n",
    "y0, t0 = [1.0j, 2.0], 0\n",
    "\n",
    "def f(t,y,arg1):\n",
    "    return [1j*arg1*y[0] + y[1], -arg1*y[1]**2]\n",
    "def jac(t,y,arg1):\n",
    "    return [[1j*arg1, 1], [0, -arg1*2*y[1]]]\n",
    "\n",
    "r = ode(f, jac).set_integrator('zvode', method='bdf')\n",
    "r.set_initial_value(y0, t0).set_f_params(2.0).set_jac_params(2.0)\n",
    "t1 = 10\n",
    "dt = 1"
   ],
   "metadata": {
    "collapsed": false,
    "pycharm": {
     "name": "#%%\n",
     "is_executing": false
    }
   }
  },
  {
   "cell_type": "code",
   "execution_count": 84,
   "outputs": [
    {
     "name": "stdout",
     "text": [
      "1 [-0.71038232+0.23749653j  0.40000271+0.j        ]\n2.0 [0.19098503-0.52359246j 0.22222356+0.j        ]\n3.0 [0.47153208+0.52701229j 0.15384681+0.j        ]\n4.0 [-0.61905937+0.30726255j  0.11764744+0.j        ]\n5.0 [0.02340997-0.61418799j 0.09523835+0.j        ]\n6.0 [0.58643071+0.339819j 0.08000018+0.j      ]\n7.0 [-0.52070105+0.44525141j  0.06896565+0.j        ]\n8.0 [-0.15986733-0.61234476j  0.06060616+0.j        ]\n9.0 [0.64850462+0.15048982j 0.05405414+0.j        ]\n10.0 [-0.38404699+0.56382299j  0.04878055+0.j        ]\n"
     ],
     "output_type": "stream"
    }
   ],
   "source": [
    "while r.successful() and r.t < t1:\n",
    "    print(r.t+dt, r.integrate(r.t+dt))"
   ],
   "metadata": {
    "collapsed": false,
    "pycharm": {
     "name": "#%%\n",
     "is_executing": false
    }
   }
  },
  {
   "cell_type": "code",
   "execution_count": 84,
   "outputs": [],
   "source": [],
   "metadata": {
    "collapsed": false,
    "pycharm": {
     "name": "#%%\n",
     "is_executing": false
    }
   }
  },
  {
   "cell_type": "code",
   "execution_count": 135,
   "outputs": [],
   "source": [
    "from odeintw import odeintw\n",
    "\n",
    "def zfunc(z, t, K, L, M):\n",
    "    z1, z2 = z\n",
    "    print(t)\n",
    "    return [-z1 * (K - z2), L - M*z2]\n",
    "\n",
    "def zjac(z, t, K, L, M):\n",
    "    z1, z2 = z\n",
    "    jac = np.array([[z2 - K, z1], [0, -M]])\n",
    "    return jac\n",
    "\n",
    "# Initial conditions.\n",
    "z0 = np.array([1+2j, 3+4j])\n",
    "\n",
    "# Desired time samples for the solution.\n",
    "t = np.linspace(0, 5, 101)\n",
    "\n",
    "# Parameters.\n",
    "K = 2\n",
    "L = 4 - 2j\n",
    "M = 2.5"
   ],
   "metadata": {
    "collapsed": false,
    "pycharm": {
     "name": "#%%\n",
     "is_executing": false
    }
   }
  },
  {
   "cell_type": "code",
   "execution_count": 136,
   "outputs": [
    {
     "name": "stdout",
     "text": [
      "0.0\n6.01215667591043e-06\n6.01215667591043e-06\n1.202431335182086e-05\n1.202431335182086e-05\n0.0007733066615797614\n0.0007733066615797614\n0.001534589009807702\n0.001534589009807702\n0.0022958713580356425\n0.0022958713580356425\n0.005387454783682634\n0.005387454783682634\n0.004657182970655686\n0.004657182970655686\n0.00701849458327573\n0.00701849458327573\n0.009379806195895773\n0.009379806195895773\n0.011741117808515816\n0.011741117808515816\n0.016463741033755905\n0.016463741033755905\n0.02118636425899599\n0.02118636425899599\n0.025908987484236076\n0.025908987484236076\n0.030631610709476162\n0.030631610709476162\n0.03535423393471625\n0.03535423393471625\n0.04675748596637029\n0.04675748596637029\n0.058160737998024334\n0.058160737998024334\n0.06956399002967838\n0.06956399002967838\n0.08096724206133242\n0.08096724206133242\n0.09237049409298646\n0.09237049409298646\n0.1037737461246405\n0.1037737461246405\n0.1174304621199127\n0.1174304621199127\n0.13108717811518492\n0.13108717811518492\n0.14474389411045713\n0.14474389411045713\n0.15840061010572934\n0.15840061010572934\n0.17205732610100155\n0.17205732610100155\n0.18571404209627376\n0.18571404209627376\n0.20231044227085293\n0.20231044227085293\n0.2189068424454321\n0.2189068424454321\n0.23550324262001127\n0.23550324262001127\n0.25209964279459046\n0.25209964279459046\n0.26869604296916966\n0.26869604296916966\n0.28529244314374885\n0.28529244314374885\n0.30188884331832805\n0.30188884331832805\n0.3256567107951864\n0.3256567107951864\n0.3494245782720447\n0.3494245782720447\n0.37319244574890303\n0.37319244574890303\n0.39696031322576136\n0.39696031322576136\n0.4207281807026197\n0.4207281807026197\n0.444496048179478\n0.444496048179478\n0.46826391565633635\n0.46826391565633635\n0.4920317831331947\n0.4920317831331947\n0.5245674948201089\n0.5245674948201089\n0.5571032065070232\n0.5571032065070232\n0.5896389181939374\n0.5896389181939374\n0.6221746298808517\n0.6221746298808517\n0.654710341567766\n0.654710341567766\n0.6872460532546802\n0.6872460532546802\n0.7197817649415945\n0.7197817649415945\n0.7523174766285088\n0.7523174766285088\n0.7908272845792811\n0.7908272845792811\n0.8293370925300534\n0.8293370925300534\n0.8678469004808257\n0.8678469004808257\n0.906356708431598\n0.906356708431598\n0.9448665163823703\n0.9448665163823703\n0.9833763243331426\n0.9833763243331426\n1.0218861322839148\n1.0218861322839148\n1.060395940234687\n1.060395940234687\n1.1115997620261666\n1.1115997620261666\n1.1628035838176463\n1.1628035838176463\n1.214007405609126\n1.214007405609126\n1.2652112274006055\n1.2652112274006055\n1.3164150491920852\n1.3164150491920852\n1.3676188709835648\n1.3676188709835648\n1.4188226927750445\n1.4188226927750445\n1.4700265145665241\n1.4700265145665241\n1.5356904562017746\n1.5356904562017746\n1.601354397837025\n1.601354397837025\n1.6670183394722755\n1.6670183394722755\n1.732682281107526\n1.732682281107526\n1.7983462227427764\n1.7983462227427764\n1.864010164378027\n1.864010164378027\n1.9296741060132774\n1.9296741060132774\n1.9953380476485278\n1.9953380476485278\n2.0801105008201644\n2.0801105008201644\n2.164882953991801\n2.164882953991801\n2.249655407163438\n2.249655407163438\n2.3344278603350745\n2.3344278603350745\n2.4192003135067113\n2.4192003135067113\n2.503972766678348\n2.503972766678348\n2.5887452198499847\n2.5887452198499847\n2.6735176730216215\n2.6735176730216215\n2.758290126193258\n2.758290126193258\n2.843062579364895\n2.843062579364895\n2.9278350325365317\n2.9278350325365317\n3.0415369891278488\n3.0415369891278488\n3.155238945719166\n3.155238945719166\n3.268940902310483\n3.268940902310483\n3.3826428589018\n3.3826428589018\n3.496344815493117\n3.496344815493117\n3.6100467720844343\n3.6100467720844343\n3.7237487286757514\n3.7237487286757514\n3.8374506852670685\n3.8374506852670685\n3.946804497898474\n3.946804497898474\n4.05615831052988\n4.05615831052988\n4.165512123161286\n4.165512123161286\n4.274865935792692\n4.274865935792692\n4.384219748424099\n4.384219748424099\n4.493573561055505\n4.493573561055505\n4.602927373686911\n4.602927373686911\n4.702927373873561\n4.702927373873561\n4.802927374060212\n4.802927374060212\n4.902927374246862\n4.902927374246862\n5.002927374433512\n5.002927374433512\n"
     ],
     "output_type": "stream"
    }
   ],
   "source": [
    "# Call odeintw\n",
    "z, infodict = odeintw(zfunc, z0, t, args=(K, L, M), Dfun=zjac, full_output=True)"
   ],
   "metadata": {
    "collapsed": false,
    "pycharm": {
     "name": "#%%\n",
     "is_executing": false
    }
   }
  },
  {
   "cell_type": "code",
   "execution_count": 137,
   "outputs": [
    {
     "data": {
      "text/plain": "<Figure size 432x288 with 1 Axes>",
      "image/png": "[encoded data removed]"
     },
     "metadata": {
      "needs_background": "light"
     },
     "output_type": "display_data"
    }
   ],
   "source": [
    "import matplotlib.pyplot as plt\n",
    "%matplotlib inline\n",
    "\n",
    "\n",
    "color1 = (0.5, 0.4, 0.3)\n",
    "color2 = (0.2, 0.2, 1.0)\n",
    "plt.plot(t, z[:, 0].real, color=color1, label='z1.real', linewidth=1.5)\n",
    "plt.plot(t, z[:, 0].imag, '--', color=color1, label='z1.imag', linewidth=2)\n",
    "plt.plot(t, z[:, 1].real, color=color2, label='z2.real', linewidth=1.5)\n",
    "plt.plot(t, z[:, 1].imag, '--', color=color2, label='z2.imag', linewidth=2)\n",
    "plt.xlabel('t')\n",
    "plt.grid(True)\n",
    "plt.legend(loc='best')\n",
    "plt.show()"
   ],
   "metadata": {
    "collapsed": false,
    "pycharm": {
     "name": "#%%\n",
     "is_executing": false
    }
   }
  },
  {
   "cell_type": "code",
   "execution_count": 119,
   "outputs": [
    {
     "name": "stdout",
     "text": [
      "0.0\n"
     ],
     "output_type": "stream"
    }
   ],
   "source": [
    "from odeintw import odeintw\n",
    "\n",
    "def time_dep(t):\n",
    "    return (np.sin(t))\n",
    "\n",
    "coefficients = {'coeff1' : lambda x: time_dep(x)}\n",
    "\n",
    "def zfunc(z, t, K, L, M):\n",
    "    z1, z2 = z\n",
    "    return [K * z1 + L * z2, M*z2]\n",
    "\n",
    "def zjac(z, t, K, L, M):\n",
    "    z1, z2 = z\n",
    "    jac = np.array([[K, L], [0, M]])\n",
    "    return jac\n",
    "\n",
    "print(coefficients['coeff1'](0))"
   ],
   "metadata": {
    "collapsed": false,
    "pycharm": {
     "name": "#%%\n",
     "is_executing": false
    }
   }
  },
  {
   "cell_type": "code",
   "execution_count": 138,
   "outputs": [
    {
     "name": "stdout",
     "text": [
      "-6283.185307179586j\n"
     ],
     "output_type": "stream"
    }
   ],
   "source": [
    "# Initial conditions.\n",
    "z0 = np.array([0+0j, 1+0j])\n",
    "\n",
    "# Desired time samples for the solution.\n",
    "t0 = np.linspace(0, 50, 1001)\n",
    "\n",
    "# Auxiliar parameters\n",
    "\n",
    "g = 2 * np.pi * 1\n",
    "wc = 2 * np.pi* 1000\n",
    "wm = 2 * np.pi* 0.1\n",
    "wx = 2 * np.pi* 1000\n",
    "Am = 2 * np.pi* 250\n",
    "w = wc + wm*Am*coefficients['coeff1'](t)\n",
    "\n",
    "\n",
    "# Parameters.\n",
    "K = -1j * w\n",
    "L = -1j * g\n",
    "M = -1j * wx\n",
    "\n",
    "print(M)\n",
    "\n",
    "# print(K, L, M)\n"
   ],
   "metadata": {
    "collapsed": false,
    "pycharm": {
     "name": "#%%\n",
     "is_executing": false
    }
   }
  },
  {
   "cell_type": "code",
   "execution_count": 139,
   "outputs": [
    {
     "name": "stdout",
     "text": [
      "0.0\n"
     ],
     "output_type": "stream"
    },
    {
     "traceback": [
      "\u001b[0;31m---------------------------------------------------------------------------\u001b[0m",
      "\u001b[0;31mTypeError\u001b[0m                                 Traceback (most recent call last)",
      "\u001b[0;32m<ipython-input-139-af519b6a0bfa>\u001b[0m in \u001b[0;36m<module>\u001b[0;34m\u001b[0m\n\u001b[1;32m      1\u001b[0m \u001b[0;34m\u001b[0m\u001b[0m\n\u001b[0;32m----> 2\u001b[0;31m \u001b[0mz\u001b[0m\u001b[0;34m,\u001b[0m \u001b[0minfodict\u001b[0m \u001b[0;34m=\u001b[0m \u001b[0modeintw\u001b[0m\u001b[0;34m(\u001b[0m\u001b[0mzfunc\u001b[0m\u001b[0;34m,\u001b[0m \u001b[0mz0\u001b[0m\u001b[0;34m,\u001b[0m \u001b[0mt0\u001b[0m\u001b[0;34m,\u001b[0m \u001b[0margs\u001b[0m\u001b[0;34m=\u001b[0m\u001b[0;34m(\u001b[0m\u001b[0mK\u001b[0m\u001b[0;34m,\u001b[0m \u001b[0mL\u001b[0m\u001b[0;34m,\u001b[0m \u001b[0mM\u001b[0m\u001b[0;34m)\u001b[0m\u001b[0;34m,\u001b[0m \u001b[0mDfun\u001b[0m\u001b[0;34m=\u001b[0m\u001b[0mzjac\u001b[0m\u001b[0;34m,\u001b[0m \u001b[0mfull_output\u001b[0m\u001b[0;34m=\u001b[0m\u001b[0;32mTrue\u001b[0m\u001b[0;34m)\u001b[0m\u001b[0;34m\u001b[0m\u001b[0;34m\u001b[0m\u001b[0m\n\u001b[0m\u001b[1;32m      3\u001b[0m \u001b[0;34m\u001b[0m\u001b[0m\n",
      "\u001b[0;32m~/.conda/envs/Scientific/lib/python3.7/site-packages/odeintw/_odeintw.py\u001b[0m in \u001b[0;36modeintw\u001b[0;34m(func, y0, t, **kwargs)\u001b[0m\n\u001b[1;32m    224\u001b[0m \u001b[0;34m\u001b[0m\u001b[0m\n\u001b[1;32m    225\u001b[0m     \u001b[0;31m# Call scipy.integrate.odeint with our wrapper.\u001b[0m\u001b[0;34m\u001b[0m\u001b[0;34m\u001b[0m\u001b[0;34m\u001b[0m\u001b[0m\n\u001b[0;32m--> 226\u001b[0;31m     \u001b[0mresult\u001b[0m \u001b[0;34m=\u001b[0m \u001b[0modeint\u001b[0m\u001b[0;34m(\u001b[0m\u001b[0mfunc2\u001b[0m\u001b[0;34m,\u001b[0m \u001b[0my0\u001b[0m\u001b[0;34m.\u001b[0m\u001b[0mview\u001b[0m\u001b[0;34m(\u001b[0m\u001b[0mnp\u001b[0m\u001b[0;34m.\u001b[0m\u001b[0mfloat64\u001b[0m\u001b[0;34m)\u001b[0m\u001b[0;34m,\u001b[0m \u001b[0mt\u001b[0m\u001b[0;34m,\u001b[0m \u001b[0mDfun\u001b[0m\u001b[0;34m=\u001b[0m\u001b[0mjacfunc2\u001b[0m\u001b[0;34m,\u001b[0m \u001b[0;34m**\u001b[0m\u001b[0mkwargs\u001b[0m\u001b[0;34m)\u001b[0m\u001b[0;34m\u001b[0m\u001b[0;34m\u001b[0m\u001b[0m\n\u001b[0m\u001b[1;32m    227\u001b[0m \u001b[0;34m\u001b[0m\u001b[0m\n\u001b[1;32m    228\u001b[0m     \u001b[0;32mif\u001b[0m \u001b[0mfull_output\u001b[0m\u001b[0;34m:\u001b[0m\u001b[0;34m\u001b[0m\u001b[0;34m\u001b[0m\u001b[0m\n",
      "\u001b[0;32m~/.conda/envs/Scientific/lib/python3.7/site-packages/scipy/integrate/odepack.py\u001b[0m in \u001b[0;36modeint\u001b[0;34m(func, y0, t, args, Dfun, col_deriv, full_output, ml, mu, rtol, atol, tcrit, h0, hmax, hmin, ixpr, mxstep, mxhnil, mxordn, mxords, printmessg, tfirst)\u001b[0m\n\u001b[1;32m    242\u001b[0m                              \u001b[0mfull_output\u001b[0m\u001b[0;34m,\u001b[0m \u001b[0mrtol\u001b[0m\u001b[0;34m,\u001b[0m \u001b[0matol\u001b[0m\u001b[0;34m,\u001b[0m \u001b[0mtcrit\u001b[0m\u001b[0;34m,\u001b[0m \u001b[0mh0\u001b[0m\u001b[0;34m,\u001b[0m \u001b[0mhmax\u001b[0m\u001b[0;34m,\u001b[0m \u001b[0mhmin\u001b[0m\u001b[0;34m,\u001b[0m\u001b[0;34m\u001b[0m\u001b[0;34m\u001b[0m\u001b[0m\n\u001b[1;32m    243\u001b[0m                              \u001b[0mixpr\u001b[0m\u001b[0;34m,\u001b[0m \u001b[0mmxstep\u001b[0m\u001b[0;34m,\u001b[0m \u001b[0mmxhnil\u001b[0m\u001b[0;34m,\u001b[0m \u001b[0mmxordn\u001b[0m\u001b[0;34m,\u001b[0m \u001b[0mmxords\u001b[0m\u001b[0;34m,\u001b[0m\u001b[0;34m\u001b[0m\u001b[0;34m\u001b[0m\u001b[0m\n\u001b[0;32m--> 244\u001b[0;31m                              int(bool(tfirst)))\n\u001b[0m\u001b[1;32m    245\u001b[0m     \u001b[0;32mif\u001b[0m \u001b[0moutput\u001b[0m\u001b[0;34m[\u001b[0m\u001b[0;34m-\u001b[0m\u001b[0;36m1\u001b[0m\u001b[0;34m]\u001b[0m \u001b[0;34m<\u001b[0m \u001b[0;36m0\u001b[0m\u001b[0;34m:\u001b[0m\u001b[0;34m\u001b[0m\u001b[0;34m\u001b[0m\u001b[0m\n\u001b[1;32m    246\u001b[0m         \u001b[0mwarning_msg\u001b[0m \u001b[0;34m=\u001b[0m \u001b[0m_msgs\u001b[0m\u001b[0;34m[\u001b[0m\u001b[0moutput\u001b[0m\u001b[0;34m[\u001b[0m\u001b[0;34m-\u001b[0m\u001b[0;36m1\u001b[0m\u001b[0;34m]\u001b[0m\u001b[0;34m]\u001b[0m \u001b[0;34m+\u001b[0m \u001b[0;34m\" Run with full_output = 1 to get quantitative information.\"\u001b[0m\u001b[0;34m\u001b[0m\u001b[0;34m\u001b[0m\u001b[0m\n",
      "\u001b[0;32m~/.conda/envs/Scientific/lib/python3.7/site-packages/odeintw/_odeintw.py\u001b[0m in \u001b[0;36mrealfunc\u001b[0;34m(y, t, *args)\u001b[0m\n\u001b[1;32m    197\u001b[0m             \u001b[0;31m# value to an array with type np.complex128, and then return\u001b[0m\u001b[0;34m\u001b[0m\u001b[0;34m\u001b[0m\u001b[0;34m\u001b[0m\u001b[0m\n\u001b[1;32m    198\u001b[0m             \u001b[0;31m# a np.float64 view of that array.\u001b[0m\u001b[0;34m\u001b[0m\u001b[0;34m\u001b[0m\u001b[0;34m\u001b[0m\u001b[0m\n\u001b[0;32m--> 199\u001b[0;31m             \u001b[0mdydt\u001b[0m \u001b[0;34m=\u001b[0m \u001b[0mnp\u001b[0m\u001b[0;34m.\u001b[0m\u001b[0masarray\u001b[0m\u001b[0;34m(\u001b[0m\u001b[0mdzdt\u001b[0m\u001b[0;34m,\u001b[0m \u001b[0mdtype\u001b[0m\u001b[0;34m=\u001b[0m\u001b[0mnp\u001b[0m\u001b[0;34m.\u001b[0m\u001b[0mcomplex128\u001b[0m\u001b[0;34m)\u001b[0m\u001b[0;34m.\u001b[0m\u001b[0mview\u001b[0m\u001b[0;34m(\u001b[0m\u001b[0mnp\u001b[0m\u001b[0;34m.\u001b[0m\u001b[0mfloat64\u001b[0m\u001b[0;34m)\u001b[0m\u001b[0;34m\u001b[0m\u001b[0;34m\u001b[0m\u001b[0m\n\u001b[0m\u001b[1;32m    200\u001b[0m             \u001b[0;32mreturn\u001b[0m \u001b[0mdydt\u001b[0m\u001b[0;34m\u001b[0m\u001b[0;34m\u001b[0m\u001b[0m\n\u001b[1;32m    201\u001b[0m \u001b[0;34m\u001b[0m\u001b[0m\n",
      "\u001b[0;32m~/.conda/envs/Scientific/lib/python3.7/site-packages/numpy/core/numeric.py\u001b[0m in \u001b[0;36masarray\u001b[0;34m(a, dtype, order)\u001b[0m\n\u001b[1;32m    536\u001b[0m \u001b[0;34m\u001b[0m\u001b[0m\n\u001b[1;32m    537\u001b[0m     \"\"\"\n\u001b[0;32m--> 538\u001b[0;31m     \u001b[0;32mreturn\u001b[0m \u001b[0marray\u001b[0m\u001b[0;34m(\u001b[0m\u001b[0ma\u001b[0m\u001b[0;34m,\u001b[0m \u001b[0mdtype\u001b[0m\u001b[0;34m,\u001b[0m \u001b[0mcopy\u001b[0m\u001b[0;34m=\u001b[0m\u001b[0;32mFalse\u001b[0m\u001b[0;34m,\u001b[0m \u001b[0morder\u001b[0m\u001b[0;34m=\u001b[0m\u001b[0morder\u001b[0m\u001b[0;34m)\u001b[0m\u001b[0;34m\u001b[0m\u001b[0;34m\u001b[0m\u001b[0m\n\u001b[0m\u001b[1;32m    539\u001b[0m \u001b[0;34m\u001b[0m\u001b[0m\n\u001b[1;32m    540\u001b[0m \u001b[0;34m\u001b[0m\u001b[0m\n",
      "\u001b[0;31mTypeError\u001b[0m: only length-1 arrays can be converted to Python scalars"
     ],
     "ename": "TypeError",
     "evalue": "only length-1 arrays can be converted to Python scalars",
     "output_type": "error"
    }
   ],
   "source": [
    "z, infodict = odeintw(zfunc, z0, t0, args=(K, L, M), Dfun=zjac, full_output=True)"
   ],
   "metadata": {
    "collapsed": false,
    "pycharm": {
     "name": "#%%\n",
     "is_executing": false
    }
   }
  },
  {
   "cell_type": "code",
   "execution_count": 107,
   "outputs": [
    {
     "name": "stdout",
     "text": [
      "Using matplotlib backend: MacOSX\n"
     ],
     "output_type": "stream"
    }
   ],
   "source": [
    "%matplotlib\n",
    "\n",
    "color1 = (0.5, 0.4, 0.3)\n",
    "color2 = (0.2, 0.2, 1.0)\n",
    "plt.plot(t, z[:, 0].real, color=color1, label='z1.real', linewidth=1.5)\n",
    "plt.plot(t, z[:, 0].imag, '--', color=color1, label='z1.imag', linewidth=2)\n",
    "plt.plot(t, z[:, 1].real, color=color2, label='z2.real', linewidth=1.5)\n",
    "plt.plot(t, z[:, 1].imag, '--', color=color2, label='z2.imag', linewidth=2)\n",
    "plt.xlabel('t')\n",
    "plt.grid(True)\n",
    "plt.legend(loc='best')\n",
    "plt.show()"
   ],
   "metadata": {
    "collapsed": false,
    "pycharm": {
     "name": "#%%\n",
     "is_executing": false
    }
   }
  },
  {
   "cell_type": "code",
   "execution_count": 132,
   "outputs": [],
   "source": [
    "\n",
    "import numpy as np\n",
    "import matplotlib.pyplot as plt\n",
    "from scipy.integrate import odeint\n",
    "\n",
    "t = 0 \n",
    "\n",
    "def time_dep(t):\n",
    "    return (10 * np.exp(-t))\n",
    "\n",
    "coefficients = {'coeff1' : lambda x: 1+time_dep(x)}\n",
    "\n",
    "def func(state, t, coefficients):\n",
    "    mrna    = state[0]\n",
    "    protein = state[1]\n",
    "    dt_mrna = coefficients['coeff1'](t) * mrna * protein\n",
    "    dt_protein = coefficients['coeff1'](t) * protein\n",
    "    #print(coefficients['coeff1'](t))\n",
    "    return[dt_mrna,dt_protein]\n",
    "\n",
    "state0 = [1,1]\n",
    "t = np.arange(0,100,0.1)\n",
    "\n",
    "solve = odeint(func,state0,t,args=(coefficients,))\n",
    "plt.plot(t,solve)\n",
    "plt.show()"
   ],
   "metadata": {
    "collapsed": false,
    "pycharm": {
     "name": "#%%\n",
     "is_executing": false
    }
   }
  },
  {
   "cell_type": "code",
   "execution_count": null,
   "outputs": [],
   "source": [
    "\n"
   ],
   "metadata": {
    "collapsed": false,
    "pycharm": {
     "name": "#%%\n"
    }
   }
  }
 ],
 "metadata": {
  "language_info": {
   "codemirror_mode": {
    "name": "ipython",
    "version": 2
   },
   "file_extension": ".py",
   "mimetype": "text/x-python",
   "name": "python",
   "nbconvert_exporter": "python",
   "pygments_lexer": "ipython2",
   "version": "2.7.6"
  },
  "kernelspec": {
   "name": "python3",
   "language": "python",
   "display_name": "Python 3"
  },
  "pycharm": {
   "stem_cell": {
    "cell_type": "raw",
    "source": [],
    "metadata": {
     "collapsed": false
    }
   }
  }
 },
 "nbformat": 4,
 "nbformat_minor": 0
}